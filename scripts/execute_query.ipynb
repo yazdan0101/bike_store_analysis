{
 "cells": [
  {
   "cell_type": "code",
   "execution_count": null,
   "id": "9f58f4a2-f5a8-429a-9c6e-b2460f8fb3c1",
   "metadata": {},
   "outputs": [],
   "source": [
    "%run '../notebooks/connection.ipynb'"
   ]
  },
  {
   "cell_type": "code",
   "execution_count": 8,
   "id": "724b716c-674b-4ff1-a44d-58d75dd4a8dd",
   "metadata": {},
   "outputs": [],
   "source": [
    "def execute_query(query:str):\n",
    "    return pd.read_sql_query(query,connection)\n",
    "    "
   ]
  }
 ],
 "metadata": {
  "kernelspec": {
   "display_name": "Python 3 (ipykernel)",
   "language": "python",
   "name": "python3"
  },
  "language_info": {
   "codemirror_mode": {
    "name": "ipython",
    "version": 3
   },
   "file_extension": ".py",
   "mimetype": "text/x-python",
   "name": "python",
   "nbconvert_exporter": "python",
   "pygments_lexer": "ipython3",
   "version": "3.13.3"
  }
 },
 "nbformat": 4,
 "nbformat_minor": 5
}
