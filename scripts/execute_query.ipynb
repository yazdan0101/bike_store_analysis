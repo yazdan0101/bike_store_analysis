{
 "cells": [
  {
   "cell_type": "code",
   "execution_count": 2,
   "id": "9f58f4a2-f5a8-429a-9c6e-b2460f8fb3c1",
   "metadata": {},
   "outputs": [],
   "source": [
    "%run ../notebooks/connection.ipynb\n"
   ]
  },
  {
   "cell_type": "code",
   "execution_count": 3,
   "id": "724b716c-674b-4ff1-a44d-58d75dd4a8dd",
   "metadata": {},
   "outputs": [],
   "source": [
    "def execute_query(query:str):\n",
    "    return pd.read_sql_query(query,connection)\n",
    "    "
   ]
  },
  {
   "cell_type": "code",
   "execution_count": 3,
   "id": "3de06c50-5482-4851-b150-5ced9073e295",
   "metadata": {},
   "outputs": [],
   "source": [
    "def execute_query(query:str):\n",
    "    return pd.read_sql_query(query,connection)\n",
    "    "
   ]
  },
  {
   "cell_type": "code",
   "execution_count": null,
   "id": "b89aa648-937b-4847-b234-dd7f5319089f",
   "metadata": {},
   "outputs": [],
   "source": []
  }
 ],
 "metadata": {
  "kernelspec": {
   "display_name": "Python 3 (ipykernel)",
   "language": "python",
   "name": "python3"
  },
  "language_info": {
   "codemirror_mode": {
    "name": "ipython",
    "version": 3
   },
   "file_extension": ".py",
   "mimetype": "text/x-python",
   "name": "python",
   "nbconvert_exporter": "python",
   "pygments_lexer": "ipython3",
   "version": "3.11.9"
  }
 },
 "nbformat": 4,
 "nbformat_minor": 5
}
