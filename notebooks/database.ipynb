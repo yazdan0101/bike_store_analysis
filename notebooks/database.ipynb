{
 "cells": [
  {
   "cell_type": "code",
   "execution_count": 11,
   "id": "aa74d4f9-3f49-42d0-918f-cd2c8c699c7b",
   "metadata": {},
   "outputs": [],
   "source": [
    "import kagglehub\n",
    "import pandas as pd\n"
   ]
  },
  {
   "cell_type": "code",
   "execution_count": 12,
   "id": "b5807a31-f15e-429a-86e8-17e291caa41c",
   "metadata": {},
   "outputs": [],
   "source": [
    "%run '../scripts/execute_query.ipynb'"
   ]
  },
  {
   "cell_type": "code",
   "execution_count": 13,
   "id": "93749496-88cb-4480-ada1-684382e7ab3c",
   "metadata": {},
   "outputs": [
    {
     "name": "stdout",
     "output_type": "stream",
     "text": [
      "Path to dataset files: /Users/yazdan/.cache/kagglehub/datasets/dillonmyrick/bike-store-sample-database/versions/3\n"
     ]
    }
   ],
   "source": [
    "path = kagglehub.dataset_download(\"dillonmyrick/bike-store-sample-database\")\n",
    "\n",
    "print(\"Path to dataset files:\", path)"
   ]
  },
  {
   "cell_type": "code",
   "execution_count": 14,
   "id": "a35858ac-7815-460b-b127-b2ec8538cbf1",
   "metadata": {},
   "outputs": [],
   "source": [
    "brands = pd.read_csv(f'{path}/brands.csv')\n",
    "categories = pd.read_csv(f'{path}/categories.csv')\n",
    "customers = pd.read_csv(f'{path}/customers.csv')\n",
    "order_items = pd.read_csv(f'{path}/order_items.csv')\n",
    "orders = pd.read_csv(f'{path}/orders.csv')\n",
    "products = pd.read_csv(f'{path}/products.csv')\n",
    "staffs = pd.read_csv(f'{path}/staffs.csv')\n",
    "stocks = pd.read_csv(f'{path}/stocks.csv')\n",
    "stores = pd.read_csv(f'{path}/stores.csv')"
   ]
  },
  {
   "cell_type": "code",
   "execution_count": 15,
   "id": "e81fcdff-2142-4cb5-8291-1b565d3cff4f",
   "metadata": {},
   "outputs": [
    {
     "data": {
      "text/plain": [
       "3"
      ]
     },
     "execution_count": 15,
     "metadata": {},
     "output_type": "execute_result"
    }
   ],
   "source": [
    "brands.to_sql('brands', connection, if_exists='replace', index=False)\n",
    "categories.to_sql('categories', connection, if_exists='replace', index=False)\n",
    "customers.to_sql('customers', connection, if_exists='replace', index=False)\n",
    "order_items.to_sql('order_items', connection, if_exists='replace', index=False)\n",
    "orders.to_sql('orders', connection, if_exists='replace', index=False)\n",
    "products.to_sql('products', connection, if_exists='replace', index=False)\n",
    "staffs.to_sql('staffs', connection, if_exists='replace', index=False)\n",
    "stocks.to_sql('stocks', connection, if_exists='replace', index=False)\n",
    "stores.to_sql('stores', connection, if_exists='replace', index=False)"
   ]
  }
 ],
 "metadata": {
  "kernelspec": {
   "display_name": "Python 3 (ipykernel)",
   "language": "python",
   "name": "python3"
  },
  "language_info": {
   "codemirror_mode": {
    "name": "ipython",
    "version": 3
   },
   "file_extension": ".py",
   "mimetype": "text/x-python",
   "name": "python",
   "nbconvert_exporter": "python",
   "pygments_lexer": "ipython3",
   "version": "3.13.3"
  }
 },
 "nbformat": 4,
 "nbformat_minor": 5
}
