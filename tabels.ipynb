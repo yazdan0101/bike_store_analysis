{
 "cells": [
  {
   "cell_type": "code",
   "execution_count": 10,
   "id": "aa74d4f9-3f49-42d0-918f-cd2c8c699c7b",
   "metadata": {},
   "outputs": [],
   "source": [
    "import kagglehub\n",
    "import pandas as pd\n",
    "import sqlite3 as sql"
   ]
  },
  {
   "cell_type": "code",
   "execution_count": 3,
   "id": "93749496-88cb-4480-ada1-684382e7ab3c",
   "metadata": {},
   "outputs": [
    {
     "name": "stdout",
     "output_type": "stream",
     "text": [
      "Path to dataset files: /Users/yazdan/.cache/kagglehub/datasets/dillonmyrick/bike-store-sample-database/versions/3\n"
     ]
    }
   ],
   "source": [
    "path = kagglehub.dataset_download(\"dillonmyrick/bike-store-sample-database\")\n",
    "\n",
    "print(\"Path to dataset files:\", path)"
   ]
  },
  {
   "cell_type": "code",
   "execution_count": 9,
   "id": "a35858ac-7815-460b-b127-b2ec8538cbf1",
   "metadata": {},
   "outputs": [],
   "source": [
    "brands = pd.read_csv(f'{path}/brands.csv')\n",
    "categories = pd.read_csv(f'{path}/categories.csv')\n",
    "customers = pd.read_csv(f'{path}/customers.csv')\n",
    "order_items = pd.read_csv(f'{path}/order_items.csv')\n",
    "orders = pd.read_csv(f'{path}/orders.csv')\n",
    "products = pd.read_csv(f'{path}/products.csv')\n",
    "staffs = pd.read_csv(f'{path}/staffs.csv')\n",
    "stocks = pd.read_csv(f'{path}/stocks.csv')\n",
    "stores = pd.read_csv(f'{path}/stores.csv')"
   ]
  },
  {
   "cell_type": "code",
   "execution_count": 13,
   "id": "e81fcdff-2142-4cb5-8291-1b565d3cff4f",
   "metadata": {},
   "outputs": [],
   "source": [
    "connection=sql.connect('bike_store.db')"
   ]
  }
 ],
 "metadata": {
  "kernelspec": {
   "display_name": "Python 3 (ipykernel)",
   "language": "python",
   "name": "python3"
  },
  "language_info": {
   "codemirror_mode": {
    "name": "ipython",
    "version": 3
   },
   "file_extension": ".py",
   "mimetype": "text/x-python",
   "name": "python",
   "nbconvert_exporter": "python",
   "pygments_lexer": "ipython3",
   "version": "3.13.3"
  }
 },
 "nbformat": 4,
 "nbformat_minor": 5
}
